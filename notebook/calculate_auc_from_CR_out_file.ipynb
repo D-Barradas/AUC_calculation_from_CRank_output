{
 "cells": [
  {
   "cell_type": "code",
   "execution_count": 59,
   "metadata": {},
   "outputs": [],
   "source": [
    "import string\n",
    "import sys\n",
    "from math import *\n",
    "from scipy import *\n",
    "from sklearn import metrics"
   ]
  },
  {
   "cell_type": "code",
   "execution_count": 109,
   "metadata": {},
   "outputs": [],
   "source": [
    "def read_zscore_file(zscore_file):\n",
    "    #Inizio di lettura\n",
    "    f = open(zscore_file).readlines()\n",
    "\n",
    "#     name = sys.argv[1].split(\".\")\n",
    "    name = zscore_file.split(\".\")[0]\n",
    "\n",
    "    # total number of models in the file\n",
    "    NL  = 0\n",
    "\n",
    "    # results values according to L_rmsd values\n",
    "    TTP = 0\n",
    "    TFP = 0\n",
    "\n",
    "    # Everything set, starting reading file\n",
    "    new_file_with_columns = []\n",
    "    for line in f:\n",
    "#     for line in f.readlines():\n",
    "        line = line.rstrip()\n",
    "        NL = NL + 1\n",
    "## Uncomment the line below to change the way the file is read\n",
    "#         F= line.split(\"\\t\")[0].split(\"-\")[-1]\n",
    "#\n",
    "        F= line.split()[0].split(\"-\")[-1]\n",
    "#         print (\"HERE\",F)\n",
    "\n",
    "\n",
    "    # check if this line is a HQ model. In the case, store it\n",
    "        TP = 0\n",
    "        FP = 0\n",
    "        if \"I\" in F or \"G\" in F :\n",
    "            FP =1\n",
    "            TFP += 1\n",
    "            \n",
    "        else :\n",
    "#             print (line)\n",
    "            TP =1 \n",
    "            TTP += 1 \n",
    "            \n",
    "            \n",
    "#         if F[2] == \"A\" or F[2] == \"M\" or F[2] == \"H\":\n",
    "#             TP = 1\n",
    "#             TTP = TTP + 1\n",
    "#         else :\n",
    "#             FP = 1\n",
    "#             TFP = TFP + 1\n",
    "\n",
    "    #    print line, TP, FP, TTP, TFP\n",
    "        new_file_with_columns.append((line, TP, FP, TTP, TFP))\n",
    "    return ( TTP,TFP , new_file_with_columns, name)\n",
    "    # print >>g, TTP,TFP\n"
   ]
  },
  {
   "cell_type": "code",
   "execution_count": 110,
   "metadata": {},
   "outputs": [],
   "source": [
    "def calculate_auc (new_file_with_columns,TTP ,TFP ):\n",
    "    totalPositive = TTP\n",
    "    totalNegative = TFP     \n",
    "    if totalPositive == 0 or totalNegative == 0:\n",
    "        print (\"Warning ! totalPositive = {}  totalNegative = {} \".format(totalPositive,totalNegative))\n",
    "    else : \n",
    "        tprs = []\n",
    "        fprs = []\n",
    "        predictedTruePositiveSofar = 0\n",
    "        predictedFalsePositiveSofar = 0    \n",
    "        for n,d in enumerate(new_file_with_columns):\n",
    "            true_col = int(d[1])\n",
    "            false_col = int(d[2])\n",
    "            if true_col == 1 :\n",
    "                predictedTruePositiveSofar +=1\n",
    "            else :\n",
    "                predictedFalsePositiveSofar +=1\n",
    "\n",
    "            tprs.append(float(predictedTruePositiveSofar)/totalPositive)\n",
    "            fprs.append(float(predictedFalsePositiveSofar)/totalNegative)\n",
    "        return ( metrics.auc(fprs, tprs) )"
   ]
  },
  {
   "cell_type": "code",
   "execution_count": 127,
   "metadata": {},
   "outputs": [],
   "source": [
    "# file = \"only_zscore/CP57/Zscore.txt\"\n",
    "# file = \"/Users/barradd/Desktop/AUC/test-Zscore\"\n",
    "#file = \"%s\"%(sys.argv[1])\n",
    "file = \"/Users/barradd/Desktop/AUC/T26_Zscore5.0.txt\""
   ]
  },
  {
   "cell_type": "code",
   "execution_count": 128,
   "metadata": {},
   "outputs": [],
   "source": [
    "my_TTP, my_TFP, my_data , name =  read_zscore_file(file)"
   ]
  },
  {
   "cell_type": "code",
   "execution_count": 129,
   "metadata": {},
   "outputs": [
    {
     "name": "stdout",
     "output_type": "stream",
     "text": [
      "52 258\n"
     ]
    }
   ],
   "source": [
    "print (my_TTP, my_TFP)"
   ]
  },
  {
   "cell_type": "code",
   "execution_count": 130,
   "metadata": {},
   "outputs": [
    {
     "name": "stdout",
     "output_type": "stream",
     "text": [
      "/Users/barradd/Desktop/AUC/T26_Zscore5 0.7655038759689923\n"
     ]
    }
   ],
   "source": [
    "print (name, calculate_auc(my_data,my_TTP, my_TFP))"
   ]
  },
  {
   "cell_type": "code",
   "execution_count": 123,
   "metadata": {},
   "outputs": [],
   "source": []
  },
  {
   "cell_type": "code",
   "execution_count": null,
   "metadata": {},
   "outputs": [],
   "source": []
  },
  {
   "cell_type": "code",
   "execution_count": null,
   "metadata": {},
   "outputs": [],
   "source": []
  },
  {
   "cell_type": "code",
   "execution_count": null,
   "metadata": {},
   "outputs": [],
   "source": []
  }
 ],
 "metadata": {
  "kernelspec": {
   "display_name": "Python 3",
   "language": "python",
   "name": "python3"
  },
  "language_info": {
   "codemirror_mode": {
    "name": "ipython",
    "version": 3
   },
   "file_extension": ".py",
   "mimetype": "text/x-python",
   "name": "python",
   "nbconvert_exporter": "python",
   "pygments_lexer": "ipython3",
   "version": "3.6.9"
  }
 },
 "nbformat": 4,
 "nbformat_minor": 4
}
