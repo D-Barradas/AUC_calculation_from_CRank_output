{
 "cells": [
  {
   "cell_type": "code",
   "execution_count": 59,
   "metadata": {},
   "outputs": [],
   "source": [
    "# %load ../calculate_auc_from_CR_out_file.py\n",
    "#!/usr/bin/env python\n",
    "\n",
    "\n",
    "import string\n",
    "import sys\n",
    "from math import *\n",
    "from scipy import *\n",
    "from sklearn import metrics\n",
    "\n",
    "\n",
    "\n",
    "def read_zscore_file(zscore_file):\n",
    "    #Inizio di lettura\n",
    "    f = open(zscore_file).readlines()\n",
    "#     g = open(\"%s.auc.temp\"%(zscore_file) ,\"w\")\n",
    "#     name = sys.argv[1].split(\".\")\n",
    "#     name = zscore_file.split(\".\")[0]\n",
    "    name = \"temp\"\n",
    "\n",
    "    # total number of models in the file\n",
    "    NL  = 0\n",
    "\n",
    "    # results values according to L_rmsd values\n",
    "    TTP = 0\n",
    "    TFP = 0\n",
    "\n",
    "    # Everything set, starting reading file\n",
    "    new_file_with_columns = []\n",
    "    for line in f:\n",
    "#     for line in f.readlines():\n",
    "        line = line.rstrip()\n",
    "        NL = NL + 1\n",
    "## Uncomment the line below to change the way the file is read\n",
    "#         F= line.split(\"\\t\")[0].split(\"-\")[-1]\n",
    "#\n",
    "        F= line.split()[0].split(\"-\")[-1]\n",
    "#         print (\"HERE\",F)\n",
    "\n",
    "\n",
    "    # check if this line is a HQ model. In the case, store it\n",
    "        TP = 0\n",
    "        FP = 0\n",
    "        if \"I\" in F or \"G\" in F :\n",
    "            FP =1\n",
    "            TFP += 1\n",
    "            \n",
    "        else :\n",
    "#             print (line)\n",
    "            TP =1 \n",
    "            TTP += 1 \n",
    "            \n",
    "            \n",
    "#         if F[2] == \"A\" or F[2] == \"M\" or F[2] == \"H\":\n",
    "#             TP = 1\n",
    "#             TTP = TTP + 1\n",
    "#         else :\n",
    "#             FP = 1\n",
    "#             TFP = TFP + 1\n",
    "\n",
    "#         g.write(\"line:{} TP:{} FP:{} TTP:{} TFP:{}\\n\".format(line, TP, FP, TTP, TFP))\n",
    "    #    print line, TP, FP, TTP, TFP\n",
    "        new_file_with_columns.append((line, TP, FP, TTP, TFP))\n",
    "#     g.write(\"{} {}\\n\".format(TTP, TFP))\n",
    "#     for m in new_file_with_columns:\n",
    "#         new_line = \" \".join(m[0].split(\"_\"))\n",
    "#         TP2, FP2, TTP2, TFP2 = m[1],m[2],m[3],m[4]\n",
    "#         g.write(\"{} {} {} {} {}\\n\".format(new_line, TP2, FP2, TTP2, TFP2))\n",
    "    return ( TTP,TFP , new_file_with_columns, name)\n",
    "    # print >>g, TTP,TFP\n",
    "\n",
    "\n"
   ]
  },
  {
   "cell_type": "code",
   "execution_count": 89,
   "metadata": {},
   "outputs": [],
   "source": [
    "# In[110]:\n",
    "\n",
    "\n",
    "def calculate_auc (new_file_with_columns,TTP ,TFP ,name):\n",
    "    totalPositive = float(TTP)\n",
    "    totalNegative = float(TFP)   \n",
    "    g = open(\"%s.auc.temp\"%(name) ,\"w\")\n",
    "    g.write(\"model score1 score2 TP FP TTP TFP TPR FPR\\n\")\n",
    "    if totalPositive == 0 or totalNegative == 0:\n",
    "        print (\"Warning ! totalPositive = {}  totalNegative = {} \".format(totalPositive,totalNegative))\n",
    "    else : \n",
    "        tprs = []\n",
    "        fprs = []\n",
    "        predictedTruePositiveSofar = 0\n",
    "        predictedFalsePositiveSofar = 0  \n",
    "\n",
    "        for d in new_file_with_columns:\n",
    "#             print (str(d))\n",
    "            new_line = \"\".join(str(d).replace(\",\",\" \").replace(\"(\",\"\").replace(\")\",\"\").replace(\"'\",\"\"))\n",
    "#             tprs.append(float(d[3])/float(totalPositive))\n",
    "#             fprs.append(float(d[3])/float(totalPositive))\n",
    "            \n",
    "#             print (d)''\n",
    "            true_col = float(d[1])\n",
    "            false_col = float(d[2])\n",
    "            if true_col == 1 :\n",
    "                predictedTruePositiveSofar +=1\n",
    "            if false_col == 1:\n",
    "#             else :\n",
    "\n",
    "                predictedFalsePositiveSofar +=1\n",
    "\n",
    "            tprs.append(float(predictedTruePositiveSofar)/float(totalPositive))\n",
    "            fprs.append(float(predictedFalsePositiveSofar)/float(totalNegative))\n",
    "            g.write(\"{} {:.4f} {:.4f}\\n\".format(new_line,\n",
    "                                        float(predictedTruePositiveSofar)/float(totalPositive),\n",
    "                                        float(predictedFalsePositiveSofar)/float(totalNegative)))\n",
    "#             print (d, float(predictedTruePositiveSofar)/float(totalPositive),float(predictedFalsePositiveSofar)/float(totalNegative) )\n",
    "        return ( metrics.auc(fprs, tprs) )\n",
    "\n",
    "\n",
    "\n",
    "\n"
   ]
  },
  {
   "cell_type": "code",
   "execution_count": 90,
   "metadata": {},
   "outputs": [
    {
     "name": "stdout",
     "output_type": "stream",
     "text": [
      "52 258\n",
      "file: temp AUC: 0.7655038759689923\n"
     ]
    }
   ],
   "source": [
    "# In[127]:\n",
    "\n",
    "\n",
    "# file = \"only_zscore/CP57/Zscore.txt\"\n",
    "# file = \"/Users/barradd/Desktop/AUC/test-Zscore\"\n",
    "# file = \"%s\"%(sys.argv[1])\n",
    "file = \"../data/T26_Zscore5.0.txt\"\n",
    "\n",
    "\n",
    "# In[128]:\n",
    "\n",
    "\n",
    "my_TTP, my_TFP, my_data , name =  read_zscore_file(file)\n",
    "\n",
    "\n",
    "# In[129]:\n",
    "\n",
    "\n",
    "print (my_TTP, my_TFP)\n",
    "\n",
    "\n",
    "# In[130]:\n",
    "\n",
    "\n",
    "print ( \"file:\", name, \"AUC:\" , calculate_auc(my_data,my_TTP, my_TFP,name))\n",
    "\n"
   ]
  },
  {
   "cell_type": "code",
   "execution_count": 91,
   "metadata": {},
   "outputs": [
    {
     "name": "stdout",
     "output_type": "stream",
     "text": [
      "total 32\n",
      "-rw-r--r--  1 barradd  1840429327   7752 Nov 22 09:32 calculate_auc_from_CR_out_file.ipynb\n",
      "-rw-r--r--  1 barradd  1840429327  21556 Nov 22 09:33 temp.auc.temp\n"
     ]
    }
   ],
   "source": [
    "# !ls -ltr "
   ]
  },
  {
   "cell_type": "code",
   "execution_count": 92,
   "metadata": {},
   "outputs": [
    {
     "name": "stdout",
     "output_type": "stream",
     "text": [
      "model score1 score2 TP FP TTP TFP TPR FPR\n",
      "T26_P80.M06_M          0.11509   2.73594  1  0  1  0 0.0192 0.0000\n",
      "T26_P80.M02_M          0.11473   2.72388  1  0  2  0 0.0385 0.0000\n",
      "T26_P63.M05_A          0.11417   2.70513  1  0  3  0 0.0577 0.0000\n",
      "T26_P36.M01_M          0.11381   2.69307  1  0  4  0 0.0769 0.0000\n",
      "T26_P25.M02_A          0.11356   2.68470  1  0  5  0 0.0962 0.0000\n",
      "T26_P38.M03_M          0.11333   2.67700  1  0  6  0 0.1154 0.0000\n",
      "T26_P80.M03_M          0.11267   2.65489  1  0  7  0 0.1346 0.0000\n",
      "T26_P26.M04_M          0.11196   2.63112  1  0  8  0 0.1538 0.0000\n",
      "T26_P80.M01_M          0.11000   2.56548  1  0  9  0 0.1731 0.0000\n"
     ]
    }
   ],
   "source": [
    "# !head temp.auc.temp"
   ]
  },
  {
   "cell_type": "code",
   "execution_count": null,
   "metadata": {},
   "outputs": [],
   "source": []
  }
 ],
 "metadata": {
  "kernelspec": {
   "display_name": "Python 3",
   "language": "python",
   "name": "python3"
  },
  "language_info": {
   "codemirror_mode": {
    "name": "ipython",
    "version": 3
   },
   "file_extension": ".py",
   "mimetype": "text/x-python",
   "name": "python",
   "nbconvert_exporter": "python",
   "pygments_lexer": "ipython3",
   "version": "3.6.9"
  }
 },
 "nbformat": 4,
 "nbformat_minor": 4
}
