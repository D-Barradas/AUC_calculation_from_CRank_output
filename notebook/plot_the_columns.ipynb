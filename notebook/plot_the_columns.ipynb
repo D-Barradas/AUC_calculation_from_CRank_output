{
 "cells": [
  {
   "cell_type": "code",
   "execution_count": 1,
   "metadata": {},
   "outputs": [],
   "source": [
    "from optparse import OptionParser\n",
    "import sys , os \n",
    "import pandas as pd \n",
    "import matplotlib.pyplot as plt \n",
    "import seaborn as sns\n",
    "# %matplotlib inline \n",
    "import numpy as np"
   ]
  },
  {
   "cell_type": "code",
   "execution_count": null,
   "metadata": {},
   "outputs": [],
   "source": [
    "def Warning_to_nan(x) :\n",
    "\n",
    "    if isinstance(x, float):\n",
    "        return x\n",
    "\n",
    "    elif isinstance(x, str):\n",
    "        try:\n",
    "            if float(x):\n",
    "                return (float(x))\n",
    "            elif x == \"0.0\":\n",
    "                 return 0.0\n",
    "\n",
    "        except:\n",
    "            return -1.0"
   ]
  },
  {
   "cell_type": "code",
   "execution_count": null,
   "metadata": {},
   "outputs": [],
   "source": [
    "def split_the_column_10(x):\n",
    "    total = x.split(\"/\")[0]\n",
    "    number = x.split(\"/\")[1].split(\"*\")[0]\n",
    "    return int(number)"
   ]
  },
  {
   "cell_type": "code",
   "execution_count": null,
   "metadata": {},
   "outputs": [],
   "source": [
    "##Parse the options\n",
    "usage = \"USAGE: python plot_the_columns.py --f1 excelfile\\n\"\n",
    "parser = OptionParser(usage=usage)\n",
    "parser.add_option(\"--f1\",help=\"ExcelFile\", dest=\"f1\")"
   ]
  },
  {
   "cell_type": "code",
   "execution_count": null,
   "metadata": {},
   "outputs": [],
   "source": [
    "(options, args) = parser.parse_args()\n",
    "\n",
    "if (options.f1):\n",
    "    print (\"%s\"%(options.f1.split(\".\")[0]))\n",
    "\n",
    "else:\n",
    "\n",
    "    print (\"Not enough input arguments supplied\")\n",
    "    print (usage)\n",
    "    quit()\n",
    "\n",
    "#cwd = os.getcwd()\n",
    "#os.system(\"mkdir \"+cwd+\"/\"+out_folder)"
   ]
  },
  {
   "cell_type": "code",
   "execution_count": null,
   "metadata": {},
   "outputs": [],
   "source": [
    "# df_excelfile = pd.read_excel(\"../../Tz_files/DidierExample.xlsx\",sheet_name=None)\n",
    "os.system(\"mkdir -p figures\")\n",
    "df_excelfile = pd.read_excel(options.f1,sheet_name=None)\n",
    "full_table = pd.DataFrame()\n",
    "for name, sheet in df_excelfile.items():\n",
    "    print(name , sheet.columns.values[0])\n",
    "#     print ( sheet.columns.values[0] )\n",
    "\n",
    "    sheet['Target'] = sheet.columns.values[0]\n",
    "\n",
    "    full_table = full_table.append(sheet[[\"AUC\", \"NL on 20%\" , \"NL on 20\" ,\"NL on 50\" , \"NL on 10\" ,\"Target\" ,\"iteration step\"]])"
   ]
  },
  {
   "cell_type": "code",
   "execution_count": null,
   "metadata": {},
   "outputs": [],
   "source": [
    "full_table[\"AUC_num\"] = full_table[\"AUC\"].apply(Warning_to_nan)"
   ]
  },
  {
   "cell_type": "code",
   "execution_count": null,
   "metadata": {},
   "outputs": [],
   "source": [
    "full_table[\"New_total\"] = full_table[\"NL on 10\"].apply(split_the_column_10)"
   ]
  },
  {
   "cell_type": "code",
   "execution_count": null,
   "metadata": {},
   "outputs": [],
   "source": [
    "sns.lineplot(data=full_table , x='iteration step', y='AUC_num', hue=\"Target\")\n",
    "plt.grid(True)\n",
    "plt.title(\"AUC\")\n",
    "plt.ylim(-0.01,1.05)\n",
    "plt.ylabel(\"AUC\")\n",
    "plt.savefig(\"figures/AUC.png\",format=\"png\",transparent=True)\n",
    "plt.clf()"
   ]
  },
  {
   "cell_type": "code",
   "execution_count": null,
   "metadata": {},
   "outputs": [],
   "source": [
    "sns.lineplot(data=full_table , x='iteration step', y='NL on 50', hue=\"Target\")\n",
    "plt.grid(True)\n",
    "plt.title(\"NL on 50\")\n",
    "plt.savefig(\"figures/NL_on_50.png\",format=\"png\",transparent=True)\n",
    "plt.clf()"
   ]
  },
  {
   "cell_type": "code",
   "execution_count": null,
   "metadata": {},
   "outputs": [],
   "source": [
    "sns.lineplot(data=full_table , x='iteration step', y='NL on 20', hue=\"Target\")\n",
    "plt.grid(True)\n",
    "plt.title(\"NL on 50\")\n",
    "plt.savefig(\"figures/NL_on_20.png\",format=\"png\",transparent=True)\n",
    "plt.clf()"
   ]
  },
  {
   "cell_type": "code",
   "execution_count": null,
   "metadata": {},
   "outputs": [],
   "source": [
    "sns.lineplot(data=full_table , x='iteration step', y='NL on 20%', hue=\"Target\")\n",
    "plt.grid(True)\n",
    "plt.title(\"NL on 50\")\n",
    "plt.savefig(\"figures/NL_on_20_percent.png\",format=\"png\",transparent=True)\n",
    "plt.clf()"
   ]
  },
  {
   "cell_type": "code",
   "execution_count": null,
   "metadata": {},
   "outputs": [],
   "source": [
    "sns.lineplot(data=full_table , x='iteration step', y='NL on 10 total', hue=\"Target\")\n",
    "plt.grid(True)\n",
    "plt.title(\"NL on 10\")\n",
    "plt.savefig(\"figures/NL_on_10.png\",format=\"png\",transparent=True)\n",
    "plt.clf()"
   ]
  }
 ],
 "metadata": {
  "kernelspec": {
   "display_name": "Python 3",
   "language": "python",
   "name": "python3"
  },
  "language_info": {
   "codemirror_mode": {
    "name": "ipython",
    "version": 3
   },
   "file_extension": ".py",
   "mimetype": "text/x-python",
   "name": "python",
   "nbconvert_exporter": "python",
   "pygments_lexer": "ipython3",
   "version": "3.6.9"
  }
 },
 "nbformat": 4,
 "nbformat_minor": 4
}
